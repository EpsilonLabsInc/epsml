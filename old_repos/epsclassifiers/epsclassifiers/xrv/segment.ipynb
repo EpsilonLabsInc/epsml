{
 "cells": [
  {
   "cell_type": "code",
   "execution_count": null,
   "metadata": {},
   "outputs": [],
   "source": [
    "import matplotlib.pyplot as plt\n",
    "import numpy as np\n",
    "import torch\n",
    "import torchvision\n",
    "import torchxrayvision as xrv\n",
    "\n",
    "from epsutils.dicom import dicom_utils\n",
    "from epsutils.image import image_utils"
   ]
  },
  {
   "cell_type": "markdown",
   "metadata": {},
   "source": [
    "Load the segmentation model"
   ]
  },
  {
   "cell_type": "code",
   "execution_count": null,
   "metadata": {},
   "outputs": [],
   "source": [
    "model = xrv.baseline_models.chestx_det.PSPNet()\n",
    "model.eval()"
   ]
  },
  {
   "cell_type": "markdown",
   "metadata": {},
   "source": [
    "Load image"
   ]
  },
  {
   "cell_type": "code",
   "execution_count": null,
   "metadata": {},
   "outputs": [],
   "source": [
    "IMAGE_PATH = \"./images/cardiomegaly_1_front.dcm\"\n",
    "\n",
    "img = dicom_utils.get_dicom_image(IMAGE_PATH, custom_windowing_parameters={\"window_center\": 0, \"window_width\": 0})\n",
    "img = image_utils.numpy_array_to_pil_image(img, convert_to_uint8=True, convert_to_rgb=True)\n",
    "img = np.array(img)\n",
    "\n",
    "img = xrv.datasets.normalize(img, 255)  # Convert 8-bit image to [-1024, 1024] range.\n",
    "img = img.mean(2)[None, ...]  # Make single color channel.\n",
    "\n",
    "transform = torchvision.transforms.Compose([xrv.datasets.XRayCenterCrop(), xrv.datasets.XRayResizer(512)])\n",
    "\n",
    "img = transform(img)\n",
    "img = torch.from_numpy(img)"
   ]
  },
  {
   "cell_type": "markdown",
   "metadata": {},
   "source": [
    "Run prediction"
   ]
  },
  {
   "cell_type": "code",
   "execution_count": null,
   "metadata": {},
   "outputs": [],
   "source": [
    "with torch.no_grad():\n",
    "    pred = model(img)"
   ]
  },
  {
   "cell_type": "markdown",
   "metadata": {},
   "source": [
    "Show raw results"
   ]
  },
  {
   "cell_type": "code",
   "execution_count": null,
   "metadata": {},
   "outputs": [],
   "source": [
    "plt.figure(figsize=(26,5))\n",
    "plt.subplot(1, len(model.targets) + 1, 1)\n",
    "plt.imshow(img[0], cmap='gray')\n",
    "\n",
    "for i in range(len(model.targets)):\n",
    "    plt.subplot(1, len(model.targets) + 1, i+2)\n",
    "    plt.imshow(pred[0, i])\n",
    "    plt.title(model.targets[i])\n",
    "    plt.axis('off')\n",
    "\n",
    "plt.tight_layout()"
   ]
  },
  {
   "cell_type": "markdown",
   "metadata": {},
   "source": [
    "Get probabilities"
   ]
  },
  {
   "cell_type": "code",
   "execution_count": null,
   "metadata": {},
   "outputs": [],
   "source": [
    "pred = 1 / (1 + np.exp(-pred))  # Sigmoid.\n",
    "pred[pred < 0.5] = 0\n",
    "pred[pred > 0.5] = 1"
   ]
  },
  {
   "cell_type": "markdown",
   "metadata": {},
   "source": [
    "Show segmentation results"
   ]
  },
  {
   "cell_type": "code",
   "execution_count": null,
   "metadata": {},
   "outputs": [],
   "source": [
    "plt.figure(figsize = (26,5))\n",
    "plt.subplot(1, len(model.targets) + 1, 1)\n",
    "plt.imshow(img[0], cmap='gray')\n",
    "\n",
    "for i in range(len(model.targets)):\n",
    "    plt.subplot(1, len(model.targets) + 1, i+2)\n",
    "    plt.imshow(pred[0, i])\n",
    "    plt.title(model.targets[i])\n",
    "    plt.axis('off')\n",
    "\n",
    "plt.tight_layout()"
   ]
  },
  {
   "cell_type": "markdown",
   "metadata": {},
   "source": [
    "Show segmented heart"
   ]
  },
  {
   "cell_type": "code",
   "execution_count": null,
   "metadata": {},
   "outputs": [],
   "source": [
    "plt.figure(figsize=(20, 10))\n",
    "\n",
    "plt.subplot(1, 2, 1)\n",
    "plt.imshow(img[0], cmap='gray')\n",
    "plt.title(\"Original Image\")\n",
    "plt.axis('off')\n",
    "\n",
    "plt.subplot(1, 2, 2)\n",
    "plt.imshow(img[0], cmap='gray')\n",
    "plt.imshow(pred[0, 8], cmap='jet', alpha=0.5)\n",
    "plt.title(\"Original Image with Segmentation\")\n",
    "plt.axis('off')\n",
    "\n",
    "plt.tight_layout()\n",
    "plt.show()"
   ]
  }
 ],
 "metadata": {
  "kernelspec": {
   "display_name": "Python 3",
   "language": "python",
   "name": "python3"
  },
  "language_info": {
   "codemirror_mode": {
    "name": "ipython",
    "version": 3
   },
   "file_extension": ".py",
   "mimetype": "text/x-python",
   "name": "python",
   "nbconvert_exporter": "python",
   "pygments_lexer": "ipython3",
   "version": "3.11.11"
  }
 },
 "nbformat": 4,
 "nbformat_minor": 2
}
