{
 "cells": [
  {
   "cell_type": "code",
   "execution_count": null,
   "id": "4722845b-7742-48fd-b410-c0129463cd9b",
   "metadata": {},
   "outputs": [],
   "source": [
    "import ipywidgets as widgets\n",
    "import matplotlib.pyplot as plt\n",
    "import numpy as np\n",
    "import pandas as pd\n",
    "import torch\n",
    "\n",
    "from collections import Counter\n",
    "from ipywidgets import interact, interactive, IntSlider\n",
    "from sklearn.cluster import KMeans\n",
    "from sklearn.decomposition import PCA\n",
    "from sklearn.manifold import TSNE"
   ]
  },
  {
   "cell_type": "code",
   "execution_count": null,
   "id": "eff620eb",
   "metadata": {},
   "outputs": [],
   "source": [
    "SAMPLES_FILE = \"/home/andrej/data/cardiomegaly_frontal_and_standard_validation_dataset.csv\"\n",
    "EMBEDDINGS_FILE = \"/home/andrej/data/cardiomegaly_frontal_and_standard_embeddings_epoch_4_20250227_013258_utc.pt\""
   ]
  },
  {
   "cell_type": "code",
   "execution_count": null,
   "id": "cb29f4ea",
   "metadata": {},
   "outputs": [],
   "source": [
    "def to_numpy(tensor):\n",
    "    return tensor.to(torch.float32).numpy() if tensor.dtype == torch.bfloat16 else tensor.numpy()\n",
    "\n",
    "def plot_tsne_with_df_labels(perplexity=30, df=None):\n",
    "    tsne = TSNE(n_components=2, perplexity=perplexity, random_state=42)\n",
    "    embeddings_2d = tsne.fit_transform(embeddings_np)\n",
    "\n",
    "    if df is not None:\n",
    "        numeric_labels = df[\"labels\"].apply(lambda x: 1 if x == \"['Cardiomegaly']\" else 0)\n",
    "    else:\n",
    "        raise ValueError(\"A valid dataframe with a 'labels' column must be provided.\")\n",
    "\n",
    "    plt.figure(figsize=(10, 7))\n",
    "    scatter = plt.scatter(embeddings_2d[:, 0], embeddings_2d[:, 1], s=10, alpha=0.8, c=numeric_labels, cmap=\"viridis\")\n",
    "    plt.xlabel(\"t-SNE Component 1\")\n",
    "    plt.ylabel(\"t-SNE Component 2\")\n",
    "    plt.colorbar(scatter, label=\"Label (0: [], 1: ['Cardiomegaly'])\")\n",
    "    plt.show()\n",
    "\n",
    "    return embeddings_2d\n",
    "\n",
    "def get_events_in_region(embeddings_2d, df, x_range, y_range, target_label=\"[]\"):\n",
    "    x_min, x_max = x_range\n",
    "    y_min, y_max = y_range\n",
    "\n",
    "    region_mask = (\n",
    "        (embeddings_2d[:, 0] >= x_min) &\n",
    "        (embeddings_2d[:, 0] <= x_max) &\n",
    "        (embeddings_2d[:, 1] >= y_min) &\n",
    "        (embeddings_2d[:, 1] <= y_max)\n",
    "    )\n",
    "\n",
    "    indices_region = np.where(region_mask)[0]\n",
    "    label_mask = (df[\"labels\"] == target_label).values\n",
    "    indices_final = np.intersect1d(indices_region, np.where(label_mask)[0])\n",
    "    filtered_df = df.iloc[indices_final]\n",
    "\n",
    "    return indices_final, filtered_df"
   ]
  },
  {
   "cell_type": "code",
   "execution_count": null,
   "id": "a146f354-b487-43c5-9745-ed69eeba9f6d",
   "metadata": {},
   "outputs": [],
   "source": [
    "print(f\"Reading samples file {SAMPLES_FILE}\")\n",
    "df = pd.read_csv(SAMPLES_FILE)\n",
    "print(df.index.size)\n",
    "print(Counter(df[\"labels\"]))"
   ]
  },
  {
   "cell_type": "code",
   "execution_count": null,
   "id": "559b0917-f28c-438b-94b8-e1f4befacf14",
   "metadata": {},
   "outputs": [],
   "source": [
    "print(f\"Reading embeddings file {EMBEDDINGS_FILE}\")\n",
    "embeddings = torch.load(EMBEDDINGS_FILE, map_location=torch.device(\"cpu\"))\n",
    "\n",
    "if isinstance(embeddings, torch.Tensor):\n",
    "    embeddings_np = to_numpy(embeddings)\n",
    "elif isinstance(embeddings, dict):\n",
    "    embeddings_np = {key: to_numpy(tensor) for key, tensor in embeddings.items()}\n",
    "elif isinstance(embeddings, list):\n",
    "    embeddings_np = [to_numpy(tensor) for tensor in embeddings]\n",
    "else:\n",
    "    raise TypeError(f\"Unsupported embeddings format: {type(embeddings)}\")\n",
    "\n",
    "print(type(embeddings_np))\n",
    "print(embeddings_np.shape)"
   ]
  },
  {
   "cell_type": "code",
   "execution_count": null,
   "id": "13497131-24f2-43d3-90d4-e3efd1fcfdd5",
   "metadata": {},
   "outputs": [],
   "source": [
    "embeddings_2d = plot_tsne_with_df_labels(perplexity=10, df=df)"
   ]
  },
  {
   "cell_type": "code",
   "execution_count": null,
   "id": "0389d048-98b6-4c5e-b7b2-e4108c868a3a",
   "metadata": {},
   "outputs": [],
   "source": [
    "get_events_in_region(embeddings_2d, df, x_range=(0, 25), y_range=(0, 25), target_label=\"[]\")"
   ]
  }
 ],
 "metadata": {
  "kernelspec": {
   "display_name": "Python 3",
   "language": "python",
   "name": "python3"
  },
  "language_info": {
   "codemirror_mode": {
    "name": "ipython",
    "version": 3
   },
   "file_extension": ".py",
   "mimetype": "text/x-python",
   "name": "python",
   "nbconvert_exporter": "python",
   "pygments_lexer": "ipython3",
   "version": "3.11.11"
  }
 },
 "nbformat": 4,
 "nbformat_minor": 5
}
