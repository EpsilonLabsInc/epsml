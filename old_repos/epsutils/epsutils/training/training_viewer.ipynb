{
 "cells": [
  {
   "cell_type": "code",
   "execution_count": null,
   "metadata": {},
   "outputs": [],
   "source": [
    "import math\n",
    "import time\n",
    "\n",
    "import matplotlib.pyplot as plt\n",
    "import torch\n",
    "from IPython.display import clear_output, display\n",
    "\n",
    "TRAINING_DATA_PATH = \"/home/andrej/work/epsclassifiers/epsclassifiers/cr_body_part_classifier/current_training_data.pt\"\n",
    "RELOAD_INTERVAL_SEC = 0.5\n",
    "NUM_VIEW_GRID_COLS = 4\n",
    "LABEL_TO_STRING_MAPPING = {\n",
    "    0: \"non-chest\",\n",
    "    1: \"chest\"\n",
    "}\n",
    "\n",
    "def visualize_training_data(data_path):\n",
    "    try:\n",
    "        training_data = torch.load(data_path)\n",
    "    except Exception as e:\n",
    "        # The data file might be in the process of being written by the training script.\n",
    "        # Skip this read attempt and try again later to avoid potential errors.\n",
    "        return\n",
    "\n",
    "    inputs = training_data[\"inputs\"]\n",
    "    labels = training_data[\"labels\"]\n",
    "    labels = [LABEL_TO_STRING_MAPPING[label.item()] for label in labels]\n",
    "\n",
    "    NUM_IMAGES = inputs.size(0)\n",
    "    NUM_ROWS = math.ceil(NUM_IMAGES / NUM_VIEW_GRID_COLS)\n",
    "\n",
    "    clear_output(wait=True)\n",
    "    plt.figure(figsize=(NUM_VIEW_GRID_COLS * 2, NUM_ROWS * 2))\n",
    "\n",
    "    for i in range(NUM_IMAGES):\n",
    "        plt.subplot(NUM_ROWS, NUM_VIEW_GRID_COLS, i + 1)\n",
    "        plt.imshow(inputs[i, 0, :, :].cpu().numpy(), cmap=\"gray\")\n",
    "        plt.title(f\"Label: {labels[i]}\", fontsize=12)\n",
    "        plt.axis(\"off\")\n",
    "\n",
    "    plt.tight_layout()\n",
    "    plt.show()\n",
    "\n",
    "while True:\n",
    "    visualize_training_data(TRAINING_DATA_PATH)\n",
    "    time.sleep(RELOAD_INTERVAL_SEC)\n"
   ]
  }
 ],
 "metadata": {
  "kernelspec": {
   "display_name": "ai",
   "language": "python",
   "name": "python3"
  },
  "language_info": {
   "codemirror_mode": {
    "name": "ipython",
    "version": 3
   },
   "file_extension": ".py",
   "mimetype": "text/x-python",
   "name": "python",
   "nbconvert_exporter": "python",
   "pygments_lexer": "ipython3",
   "version": "3.11.10"
  }
 },
 "nbformat": 4,
 "nbformat_minor": 2
}
