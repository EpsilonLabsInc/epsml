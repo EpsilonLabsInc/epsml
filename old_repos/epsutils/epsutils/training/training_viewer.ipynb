{
 "cells": [
  {
   "cell_type": "code",
   "execution_count": 1,
   "metadata": {},
   "outputs": [
    {
     "ename": "ModuleNotFoundError",
     "evalue": "No module named 'epsutils'",
     "output_type": "error",
     "traceback": [
      "\u001b[0;31m---------------------------------------------------------------------------\u001b[0m",
      "\u001b[0;31mModuleNotFoundError\u001b[0m                       Traceback (most recent call last)",
      "Cell \u001b[0;32mIn[1], line 3\u001b[0m\n\u001b[1;32m      1\u001b[0m \u001b[38;5;28;01mimport\u001b[39;00m\u001b[38;5;250m \u001b[39m\u001b[38;5;21;01mtime\u001b[39;00m\n\u001b[1;32m      2\u001b[0m \u001b[38;5;28;01mimport\u001b[39;00m\u001b[38;5;250m \u001b[39m\u001b[38;5;21;01mtorch\u001b[39;00m\n\u001b[0;32m----> 3\u001b[0m \u001b[38;5;28;01mfrom\u001b[39;00m\u001b[38;5;250m \u001b[39m\u001b[38;5;21;01mepsutils\u001b[39;00m\u001b[38;5;21;01m.\u001b[39;00m\u001b[38;5;21;01mtraining\u001b[39;00m\u001b[38;5;250m \u001b[39m\u001b[38;5;28;01mimport\u001b[39;00m training_visualization\n\u001b[1;32m      5\u001b[0m VISUALIZATION_DATA_PATH \u001b[38;5;241m=\u001b[39m \u001b[38;5;124m\"\u001b[39m\u001b[38;5;124m/home/andrej/work/epsclassifiers/epsclassifiers/intern_vit_classifier\u001b[39m\u001b[38;5;124m\"\u001b[39m\n\u001b[1;32m      6\u001b[0m RELOAD_INTERVAL_SEC \u001b[38;5;241m=\u001b[39m \u001b[38;5;241m0.5\u001b[39m\n",
      "\u001b[0;31mModuleNotFoundError\u001b[0m: No module named 'epsutils'"
     ]
    }
   ],
   "source": [
    "import time\n",
    "import torch\n",
    "from epsutils.training import training_visualization\n",
    "\n",
    "VISUALIZATION_DATA_PATH = \"/home/andrej/work/epsclassifiers/epsclassifiers/intern_vit_classifier\"\n",
    "RELOAD_INTERVAL_SEC = 0.5\n",
    "NUM_VIEW_GRID_COLS = 4\n",
    "\n",
    "\n",
    "def show_visualization_data(data_path):\n",
    "    try:\n",
    "        visualization_data = torch.load(data_path)\n",
    "    except Exception as e:\n",
    "        # The data file might be in the process of being written by the training script.\n",
    "        # Skip this read attempt and try again later to avoid potential errors.\n",
    "        return\n",
    "\n",
    "    training_visualization.show_visualization_data(visualization_data=visualization_data,\n",
    "                                                   num_view_grid_columns=NUM_VIEW_GRID_COLS,\n",
    "                                                   label_to_string_mapping=None)\n",
    "\n",
    "while True:\n",
    "    show_visualization_data(VISUALIZATION_DATA_PATH)\n",
    "    time.sleep(RELOAD_INTERVAL_SEC)\n"
   ]
  }
 ],
 "metadata": {
  "kernelspec": {
   "display_name": "ai",
   "language": "python",
   "name": "python3"
  },
  "language_info": {
   "codemirror_mode": {
    "name": "ipython",
    "version": 3
   },
   "file_extension": ".py",
   "mimetype": "text/x-python",
   "name": "python",
   "nbconvert_exporter": "python",
   "pygments_lexer": "ipython3",
   "version": "3.11.11"
  }
 },
 "nbformat": 4,
 "nbformat_minor": 2
}
