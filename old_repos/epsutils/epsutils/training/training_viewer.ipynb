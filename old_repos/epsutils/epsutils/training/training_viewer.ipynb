{
 "cells": [
  {
   "cell_type": "code",
   "execution_count": null,
   "metadata": {},
   "outputs": [],
   "source": [
    "import time\n",
    "import torch\n",
    "from epsutils.training import training_visualization\n",
    "\n",
    "VISUALIZATION_DATA_PATH = \"/home/andrej/work/epsclassifiers/epsclassifiers/cr_body_part_classifier/visualization_data.pt\"\n",
    "RELOAD_INTERVAL_SEC = 0.5\n",
    "NUM_VIEW_GRID_COLS = 4\n",
    "LABEL_TO_STRING_MAPPING = {\n",
    "    0: \"non-chest\",\n",
    "    1: \"chest\"\n",
    "}\n",
    "\n",
    "def show_visualization_data(data_path):\n",
    "    try:\n",
    "        visualization_data = torch.load(data_path)\n",
    "    except Exception as e:\n",
    "        # The data file might be in the process of being written by the training script.\n",
    "        # Skip this read attempt and try again later to avoid potential errors.\n",
    "        return\n",
    "\n",
    "    training_visualization.show_visualization_data(visualization_data=visualization_data,\n",
    "                                                   num_view_grid_columns=NUM_VIEW_GRID_COLS,\n",
    "                                                   label_to_string_mapping=LABEL_TO_STRING_MAPPING)\n",
    "\n",
    "while True:\n",
    "    show_visualization_data(VISUALIZATION_DATA_PATH)\n",
    "    time.sleep(RELOAD_INTERVAL_SEC)\n"
   ]
  }
 ],
 "metadata": {
  "kernelspec": {
   "display_name": "ai",
   "language": "python",
   "name": "python3"
  },
  "language_info": {
   "codemirror_mode": {
    "name": "ipython",
    "version": 3
   },
   "file_extension": ".py",
   "mimetype": "text/x-python",
   "name": "python",
   "nbconvert_exporter": "python",
   "pygments_lexer": "ipython3",
   "version": "3.11.10"
  }
 },
 "nbformat": 4,
 "nbformat_minor": 2
}
