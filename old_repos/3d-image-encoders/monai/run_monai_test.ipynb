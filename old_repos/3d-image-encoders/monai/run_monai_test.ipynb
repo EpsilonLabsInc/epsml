{
 "cells": [
  {
   "cell_type": "markdown",
   "metadata": {},
   "source": [
    "# Monai test."
   ]
  },
  {
   "cell_type": "markdown",
   "metadata": {},
   "source": [
    "### Setup."
   ]
  },
  {
   "cell_type": "code",
   "execution_count": null,
   "metadata": {},
   "outputs": [],
   "source": [
    "import numpy as np\n",
    "import os\n",
    "import torch\n",
    "import matplotlib.pyplot as plt\n",
    "from IPython.display import clear_output\n",
    "from monai.bundle import ConfigParser, download\n",
    "from monai.transforms import LoadImage, LoadImaged, Orientation, Orientationd, EnsureChannelFirst, EnsureChannelFirstd, Compose\n",
    "from tcia_utils import nbia\n",
    "\n",
    "# Consts.\n",
    "model_name = \"wholeBody_ct_segmentation\"\n",
    "download_data = False\n",
    "download_model = False\n",
    "data_dir = \"./data\"\n",
    "# dicom_dir = os.path.join(data_dir, \"1.3.6.1.4.1.14519.5.2.1.3320.3273.193828570195012288011029757668\")\n",
    "dicom_dir = \"c:/users/andrej/desktop/dicom1.nii.gz\"\n",
    "model_path = os.path.join(data_dir, model_name, \"models\", \"model.pt\")\n",
    "config_path = os.path.join(data_dir, model_name, \"configs\", \"inference.json\")\n",
    "simulation_batch_size = None\n",
    "\n",
    "# Download CT data.\n",
    "if download_data:\n",
    "    print(\"Downloading data\")\n",
    "    cart_name = \"nbia-56561691129779503\"\n",
    "    cart_data = nbia.getSharedCart(cart_name)\n",
    "    df = nbia.downloadSeries(cart_data, format=\"df\", path=data_dir)\n",
    "\n",
    "# Download the model.\n",
    "if download_model:\n",
    "    print(\"Downloading model\")\n",
    "    download(name=model_name, bundle_dir=data_dir)\n",
    "\n",
    "# Get config.\n",
    "# Note: This block of code must occur after the model download block, otherwise config file will not be found.\n",
    "config = ConfigParser()\n",
    "config.read_config(config_path)\n",
    "\n",
    "# Load the model.\n",
    "print(\"Loading model\")\n",
    "torch.cuda.empty_cache()\n",
    "model = config.get_parsed_content(\"network\")\n",
    "model.load_state_dict(torch.load(model_path))\n",
    "model.cuda()\n",
    "model.eval()\n",
    "\n",
    "# Inferer.\n",
    "inferer = config.get_parsed_content(\"inferer\")\n",
    "\n",
    "# Preprocessor.\n",
    "preprocessing = config.get_parsed_content(\"preprocessing\")\n",
    "\n",
    "# Postprocessor.\n",
    "postprocessing = config.get_parsed_content(\"postprocessing\")"
   ]
  },
  {
   "cell_type": "markdown",
   "metadata": {},
   "source": [
    "### Get the data."
   ]
  },
  {
   "cell_type": "code",
   "execution_count": null,
   "metadata": {},
   "outputs": [],
   "source": [
    "# Preprocess data.\n",
    "data = preprocessing({\"image\": dicom_dir})\n",
    "data[\"image\"] = data[\"image\"].unsqueeze(0).cuda()  # Add batch dimension and move to GPU.\n",
    "\n",
    "# Simulate larger batch size.\n",
    "if simulation_batch_size is not None:\n",
    "    data[\"image\"] = data[\"image\"].repeat(simulation_batch_size, 1, 1, 1, 1)\n",
    "\n",
    "print(f\"Image shape: {data['image'].shape}\")\n",
    "print(\"Image meta data:\")\n",
    "print(data[\"image\"].meta)\n"
   ]
  },
  {
   "cell_type": "markdown",
   "metadata": {},
   "source": [
    "### Run segmentation."
   ]
  },
  {
   "cell_type": "code",
   "execution_count": null,
   "metadata": {},
   "outputs": [],
   "source": [
    "with torch.no_grad():\n",
    "    data[\"pred\"] = inferer(data[\"image\"], network=model)\n",
    "\n",
    "print(f\"Prediction shape: {data['pred'].shape}\")"
   ]
  },
  {
   "cell_type": "markdown",
   "metadata": {},
   "source": [
    "### Postprocessing"
   ]
  },
  {
   "cell_type": "code",
   "execution_count": null,
   "metadata": {},
   "outputs": [],
   "source": [
    "# Remove batch dimension and move to CPU.\n",
    "data[\"image\"] = data[\"image\"][0].cpu()\n",
    "data[\"pred\"] = data[\"pred\"][0].cpu()\n",
    "\n",
    "# Postprocessing.\n",
    "data = postprocessing(data)\n",
    "\n",
    "# Get segmentation.\n",
    "segmentation = data[\"pred\"][0]\n",
    "segmentation = segmentation.numpy()"
   ]
  },
  {
   "cell_type": "markdown",
   "metadata": {},
   "source": [
    "### Determine body part"
   ]
  },
  {
   "cell_type": "code",
   "execution_count": null,
   "metadata": {
    "scrolled": true
   },
   "outputs": [],
   "source": [
    "labels, counts = np.unique(segmentation, return_counts=True)\n",
    "labels = labels.astype(int)\n",
    "non_zero_labels = labels != 0\n",
    "labels = labels[non_zero_labels]\n",
    "counts = counts[non_zero_labels]\n",
    "top_label = labels[np.argmax(counts)]\n",
    "\n",
    "print(f\"All labels found: {labels}\")\n",
    "print(f\"Label counts: {counts}\")\n",
    "print(f\"Top label: {top_label}\")\n",
    "\n",
    "labels_distribution = {}\n",
    "num_slices = segmentation.shape[2]\n",
    "\n",
    "for slice_index in range(num_slices):\n",
    "    labels, counts = np.unique(segmentation[:, :, slice_index], return_counts=True)\n",
    "    labels = labels.astype(int)    \n",
    "    non_zero_labels = labels != 0\n",
    "    labels = labels[non_zero_labels]\n",
    "    counts = counts[non_zero_labels]\n",
    "    labels_distribution[slice_index] = {label: count for label, count in zip(labels, counts)}\n",
    "\n",
    "print(\"Labels distribution:\")\n",
    "print(labels_distribution)"
   ]
  },
  {
   "cell_type": "markdown",
   "metadata": {},
   "source": [
    "### Show results."
   ]
  },
  {
   "cell_type": "code",
   "execution_count": null,
   "metadata": {},
   "outputs": [],
   "source": [
    "num_slices = segmentation.shape[2]\n",
    "\n",
    "for slice_index in range(num_slices):\n",
    "    print(f\"Showing slice {slice_index + 1}/{num_slices}\")\n",
    "    \n",
    "    slice = data[\"image\"][0, :, :, slice_index].numpy()\n",
    "    segmentation_slice = segmentation[:, :, slice_index]\n",
    "      \n",
    "    plt.subplots(1, 2, figsize=(12, 6))\n",
    "    plt.subplot(121)\n",
    "    plt.pcolormesh(slice.T, cmap=\"Greys_r\")\n",
    "    plt.axis(\"off\")\n",
    "    plt.subplot(122)\n",
    "    plt.pcolormesh(segmentation_slice.T, cmap=\"nipy_spectral\")\n",
    "    plt.axis(\"off\")\n",
    "    plt.show()\n",
    "    \n",
    "    key = input(\"Press any key to continue or 'q' to quit\")\n",
    "    if key == \"q\":\n",
    "        break\n",
    "    \n",
    "    clear_output(wait=True)"
   ]
  }
 ],
 "metadata": {
  "kernelspec": {
   "display_name": "Python 3 (ipykernel)",
   "language": "python",
   "name": "python3"
  },
  "language_info": {
   "codemirror_mode": {
    "name": "ipython",
    "version": 3
   },
   "file_extension": ".py",
   "mimetype": "text/x-python",
   "name": "python",
   "nbconvert_exporter": "python",
   "pygments_lexer": "ipython3",
   "version": "3.12.3"
  }
 },
 "nbformat": 4,
 "nbformat_minor": 4
}
