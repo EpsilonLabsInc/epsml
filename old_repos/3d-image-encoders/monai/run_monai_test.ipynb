{
 "cells": [
  {
   "cell_type": "markdown",
   "metadata": {},
   "source": [
    "# Monai test."
   ]
  },
  {
   "cell_type": "markdown",
   "metadata": {},
   "source": [
    "### Imports."
   ]
  },
  {
   "cell_type": "code",
   "execution_count": null,
   "metadata": {},
   "outputs": [],
   "source": [
    "import os\n",
    "import torch\n",
    "import matplotlib.pyplot as plt\n",
    "from monai.bundle import ConfigParser, download\n",
    "from monai.transforms import LoadImage, LoadImaged, Orientation, Orientationd, EnsureChannelFirst, EnsureChannelFirstd, Compose\n",
    "from tcia_utils import nbia"
   ]
  },
  {
   "cell_type": "markdown",
   "metadata": {},
   "source": [
    "### Consts."
   ]
  },
  {
   "cell_type": "code",
   "execution_count": null,
   "metadata": {},
   "outputs": [],
   "source": [
    "model_name = \"wholeBody_ct_segmentation\"\n",
    "download_model = True\n",
    "data_dir = \"./data\"\n",
    "dicom_dir = os.path.join(data_dir, \"1.3.6.1.4.1.14519.5.2.1.3320.3273.193828570195012288011029757668\")\n",
    "model_path = os.path.join(data_dir, model_name, \"models\", \"model_lowres.pt\")\n",
    "config_path = os.path.join(data_dir, model_name, \"configs\", \"inference.json\")\n",
    "slice_index = 256"
   ]
  },
  {
   "cell_type": "markdown",
   "metadata": {},
   "source": [
    "### Download the CT data."
   ]
  },
  {
   "cell_type": "code",
   "execution_count": null,
   "metadata": {},
   "outputs": [],
   "source": [
    "cart_name = \"nbia-56561691129779503\"\n",
    "cart_data = nbia.getSharedCart(cart_name)\n",
    "df = nbia.downloadSeries(cart_data, format=\"df\", path=data_dir)"
   ]
  },
  {
   "cell_type": "markdown",
   "metadata": {},
   "source": [
    "### Get the data."
   ]
  },
  {
   "cell_type": "code",
   "execution_count": null,
   "metadata": {},
   "outputs": [],
   "source": [
    "# Get the volume.\n",
    "preprocessing_pipeline = Compose([\n",
    "    LoadImage(image_only=True),\n",
    "    EnsureChannelFirst(),\n",
    "    Orientation(axcodes=\"LPS\")\n",
    "])\n",
    "volume = preprocessing_pipeline(dicom_dir)\n",
    "\n",
    "# Display one coronal slice.\n",
    "slice = volume[0, :, slice_index].cpu().numpy()\n",
    "plt.figure(figsize=(3,8))\n",
    "plt.pcolormesh(slice.T, cmap=\"Greys_r\")\n",
    "plt.colorbar(label=\"HU\")\n",
    "plt.axis(\"off\")\n",
    "plt.show()\n",
    "\n",
    "# Get volume into the dict.\n",
    "preprocessing_pipeline = Compose([\n",
    "    LoadImaged(keys=\"image\", image_only=True),\n",
    "    EnsureChannelFirstd(keys=\"image\"),\n",
    "    Orientationd(keys=\"image\",axcodes=\"LPS\")\n",
    "])\n",
    "data = {\"image\": dicom_dir}\n",
    "data = preprocessing_pipeline(data)\n",
    "print(data)"
   ]
  },
  {
   "cell_type": "markdown",
   "metadata": {},
   "source": [
    "### Get config."
   ]
  },
  {
   "cell_type": "code",
   "execution_count": null,
   "metadata": {},
   "outputs": [],
   "source": [
    "config = ConfigParser()\n",
    "config.read_config(config_path)"
   ]
  },
  {
   "cell_type": "markdown",
   "metadata": {},
   "source": [
    "### Get the data."
   ]
  },
  {
   "cell_type": "code",
   "execution_count": null,
   "metadata": {},
   "outputs": [],
   "source": [
    "preprocessing = config.get_parsed_content(\"preprocessing\")\n",
    "data = preprocessing({\"image\": dicom_dir})\n",
    "print(data)"
   ]
  },
  {
   "cell_type": "markdown",
   "metadata": {},
   "source": [
    "### Load the model."
   ]
  },
  {
   "cell_type": "code",
   "execution_count": null,
   "metadata": {},
   "outputs": [],
   "source": [
    "if download_model:\n",
    "    download(name=model_name, bundle_dir=data_dir)\n",
    "\n",
    "model = config.get_parsed_content(\"network\")\n",
    "model.load_state_dict(torch.load(model_path))\n",
    "model.eval()"
   ]
  },
  {
   "cell_type": "markdown",
   "metadata": {},
   "source": [
    "### Run segmentation."
   ]
  },
  {
   "cell_type": "code",
   "execution_count": null,
   "metadata": {},
   "outputs": [],
   "source": [
    "inferer = config.get_parsed_content(\"inferer\")\n",
    "\n",
    "with torch.no_grad():\n",
    "    data[\"pred\"] = inferer(data[\"image\"].unsqueeze(0), network=model)\n",
    "\n",
    "data[\"pred\"] = data[\"pred\"][0]\n",
    "data[\"image\"] = data[\"image\"][0]\n",
    "\n",
    "postprocessing = config.get_parsed_content(\"postprocessing\")\n",
    "data = postprocessing(data)\n",
    "\n",
    "segmentation = torch.flip(data[\"pred\"][0], dims=[2])\n",
    "segmentation = segmentation.cpu().numpy()"
   ]
  },
  {
   "cell_type": "markdown",
   "metadata": {},
   "source": [
    "### Show results."
   ]
  },
  {
   "cell_type": "code",
   "execution_count": null,
   "metadata": {},
   "outputs": [],
   "source": [
    "coronal_slice = volume[0, :, slice_index].cpu().numpy()\n",
    "segmentation_coronal_slice = segmentation[:, slice_index]\n",
    "\n",
    "plt.subplots(1,2,figsize=(6,8))\n",
    "plt.subplot(121)\n",
    "plt.pcolormesh(coronal_slice.T, cmap=\"Greys_r\")\n",
    "plt.axis(\"off\")\n",
    "plt.subplot(122)\n",
    "plt.pcolormesh(segmentation_coronal_slice.T, cmap=\"nipy_spectral\")\n",
    "plt.axis(\"off\")\n",
    "plt.show()"
   ]
  }
 ],
 "metadata": {
  "kernelspec": {
   "display_name": "ai",
   "language": "python",
   "name": "python3"
  },
  "language_info": {
   "codemirror_mode": {
    "name": "ipython",
    "version": 3
   },
   "file_extension": ".py",
   "mimetype": "text/x-python",
   "name": "python",
   "nbconvert_exporter": "python",
   "pygments_lexer": "ipython3",
   "version": "3.11.10"
  }
 },
 "nbformat": 4,
 "nbformat_minor": 2
}
